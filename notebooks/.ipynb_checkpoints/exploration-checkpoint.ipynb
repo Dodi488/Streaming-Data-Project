{
 "cells": [
  {
   "cell_type": "markdown",
   "metadata": {},
   "source": [
    "# Exploratory Data Analysis: Before vs. After Cleaning"
   ]
  },
  {
   "cell_type": "code",
   
   "metadata": {},
   "outputs": [],
   "source": [
    "import pandas as pd\n",
    "import matplotlib.pyplot as plt\n",
    "import seaborn as sns\n",
    "from pymongo import MongoClient\n",
    "\n",
    "# --- Configuration ---\n",
    "MONGO_URI = 'mongodb://localhost:27017/' # Connect from local machine\n",
    "MONGO_DB = 'DataMiningProject'\n",
    "\n",
    "client = MongoClient(MONGO_URI)\n",
    "db = client[MONGO_DB]\n",
    "\n",
    "# Load data into DataFrames\n",
    "raw_df = pd.DataFrame(list(db['raw_dirty'].find()))\n",
    "cleaned_df = pd.DataFrame(list(db['cleaned.events'].find({'value': {'$ne': None}}))) # Filter for events with a value\n",
    "\n",
    "print(f\"Loaded {len(raw_df)} raw records and {len(cleaned_df)} cleaned records.\")"
   ]
  },
  {
   "cell_type": "markdown",
   "metadata": {},
   "source": [
    "## 1. Missing Data Comparison [cite: 91]\n",
    "\n",
    "Let's compare the count of missing values for key fields before and after cleaning."
   ]
  },
  {
   "cell_type": "code",
   
   "metadata": {},
   "outputs": [],
   "source": [
    "missing_raw = raw_df[['timestamp', 'value']].isnull().sum().rename('Raw Missing')\n",
    "missing_cleaned = cleaned_df[['timestamp', 'value']].isnull().sum().rename('Cleaned Missing')\n",
    "\n",
    "comparison_df = pd.concat([missing_raw, missing_cleaned], axis=1)\n",
    "print(\"Missing Data Before vs. After:\")\n",
    "print(comparison_df)"
   ]
  },
  {
   "cell_type": "markdown",
   "metadata": {},
   "source": [
    "## 2. Distribution of 'value' Field [cite: 88]\n",
    "\n",
    "Here we visualize the distribution of the numeric `value` field. The raw data contains non-numeric types, so we must coerce them to numeric for plotting, which simulates what our cleaning script does."
   ]
  },
  {
   "cell_type": "code",
   
   "metadata": {},
   "outputs": [],
   "source": [
    "# Coerce raw 'value' to numeric, errors become NaN\n",
    "raw_df['value_numeric'] = pd.to_numeric(raw_df['value'], errors='coerce')\n",
    "\n",
    "fig, axes = plt.subplots(1, 2, figsize=(15, 6), sharey=True)\n",
    "sns.set_style('whitegrid')\n",
    "\n",
    "# Plot dirty data distribution\n",
    "sns.histplot(raw_df['value_numeric'].dropna(), bins=30, kde=True, ax=axes[0], color='salmon')\n",
    "axes[0].set_title('Distribution of Dirty `value` (Numeric Only)')\n",
    "axes[0].set_xlabel('Value')\n",
    "\n",
    "# Plot cleaned data distribution\n",
    "sns.histplot(cleaned_df['value'], bins=30, kde=True, ax=axes[1], color='skyblue')\n",
    "axes[1].set_title('Distribution of Cleaned `value`')\n",
    "axes[1].set_xlabel('Value')\n",
    "\n",
    "plt.suptitle('Comparison of Data Distributions Before and After Cleaning')\n",
    "plt.tight_layout(rect=[0, 0.03, 1, 0.95])\n",
    "# Save the plot to the reports/visuals folder\n",
    "plt.savefig('../reports/visuals/distribution_comparison.png')\n",
    "plt.show()"
   ]
  },
  {
   "cell_type": "markdown",
   "metadata": {},
   "source": [
    "## 3. Categorical Field Standardization\n",
    "\n",
    "Let's check the `platform` field to see how inconsistent casing and nulls were handled."
   ]
  },
  {
   "cell_type": "code",
   
   "metadata": {},
   "outputs": [],
   "source": [
    "fig, axes = plt.subplots(1, 2, figsize=(15, 6))\n",
    "\n",
    "raw_df['platform'].value_counts(dropna=False).plot(kind='bar', ax=axes[0], color='coral')\n",
    "axes[0].set_title('Raw Platform Counts (with inconsistent casing & nulls)')\n",
    "axes[0].tick_params(axis='x', rotation=45)\n",
    "\n",
    "cleaned_df['platform'].value_counts(dropna=False).plot(kind='bar', ax=axes[1], color='teal')\n",
    "axes[1].set_title('Cleaned Platform Counts (standardized)')\n",
    "axes[1].tick_params(axis='x', rotation=45)\n",
    "\n",
    "plt.suptitle('Platform Field Before and After Cleaning')\n",
    "plt.tight_layout(rect=[0, 0.03, 1, 0.95])\n",
    "plt.savefig('../reports/visuals/platform_standardization.png')\n",
    "plt.show()"
   ]
  }
 ],
 "metadata": {
  "kernelspec": {
   "display_name": "Python 3",
   "language": "python",
   "name": "python3"
  },
  "language_info": {
   "codemirror_mode": {
    "name": "ipython",
    "version": 3
   },
   "file_extension": ".py",
   "mimetype": "text/x-python",
   "name": "python",
   "nbconvert_exporter": "python",
   "pygments_lexer": "ipython3",
   "version": "3.9.12"
  }
 },
 "nbformat": 4,
 "nbformat_minor": 4
}
